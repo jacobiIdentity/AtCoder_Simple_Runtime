{
  "nbformat": 4,
  "nbformat_minor": 0,
  "metadata": {
    "colab": {
      "provenance": [],
      "collapsed_sections": [
        "mBPMbVFVDL1B"
      ],
      "authorship_tag": "ABX9TyPydyIXSfrutLdJhyDhwJk4",
      "include_colab_link": true
    },
    "kernelspec": {
      "name": "python3",
      "display_name": "Python 3"
    },
    "language_info": {
      "name": "python"
    }
  },
  "cells": [
    {
      "cell_type": "markdown",
      "metadata": {
        "id": "view-in-github",
        "colab_type": "text"
      },
      "source": [
        "<a href=\"https://colab.research.google.com/github/jacobiIdentity/AtCoder_Simple_Runtime/blob/main/AtCoder_Simple_CodeTest.ipynb\" target=\"_parent\"><img src=\"https://colab.research.google.com/assets/colab-badge.svg\" alt=\"Open In Colab\"/></a>"
      ]
    },
    {
      "cell_type": "markdown",
      "source": [
        "# 0. おまじない(最初にまとめて実行)"
      ],
      "metadata": {
        "id": "mBPMbVFVDL1B"
      }
    },
    {
      "cell_type": "markdown",
      "source": [
        "テストコード取得関数"
      ],
      "metadata": {
        "id": "J-qOvqz2msRN"
      }
    },
    {
      "cell_type": "code",
      "source": [
        "import requests\n",
        "from bs4 import BeautifulSoup\n",
        "import os\n",
        "import json\n",
        "\n",
        "def fetch_test_cases(url, cache_dir=\".cache\"):\n",
        "    os.makedirs(cache_dir, exist_ok=True)\n",
        "    cache_file = os.path.join(cache_dir, url.replace(\"https://\", \"\").replace(\"/\", \"_\") + \".json\")\n",
        "\n",
        "    # キャッシュがあればそれを返す\n",
        "    if os.path.exists(cache_file):\n",
        "        with open(cache_file, \"r\", encoding=\"utf-8\") as f:\n",
        "            return json.load(f)\n",
        "\n",
        "    # なければ取得\n",
        "    resp = requests.get(url)\n",
        "    resp.raise_for_status()\n",
        "    soup = BeautifulSoup(resp.text, \"html.parser\")\n",
        "\n",
        "    samples = []\n",
        "    h3_tags = soup.find_all(\"h3\")\n",
        "\n",
        "    for h3 in h3_tags:\n",
        "        if \"入力例\" in h3.text:\n",
        "            input_text = h3.find_next(\"pre\").text\n",
        "            output_h3 = h3.find_next(lambda tag: tag.name == \"h3\" and \"出力例\" in tag.text)\n",
        "            if output_h3:\n",
        "                output_text = output_h3.find_next(\"pre\").text\n",
        "                samples.append((input_text, output_text))\n",
        "\n",
        "    samples = [(inp.replace(\"\\r\", \"\"), out.replace(\"\\r\", \"\")) for inp, out in samples]\n",
        "\n",
        "    # キャッシュ保存\n",
        "    with open(cache_file, \"w\", encoding=\"utf-8\") as f:\n",
        "        json.dump(samples, f, ensure_ascii=False, indent=2)\n",
        "\n",
        "    return samples\n"
      ],
      "metadata": {
        "id": "akcz9vcTFyM5"
      },
      "execution_count": 1,
      "outputs": []
    },
    {
      "cell_type": "markdown",
      "source": [
        "テスト実行関数(1回)"
      ],
      "metadata": {
        "id": "ESHa3nD9m9uQ"
      }
    },
    {
      "cell_type": "code",
      "source": [
        "import subprocess\n",
        "import time\n",
        "import sys\n",
        "import io\n",
        "\n",
        "def run_external_test(command, input_text=\"\", timeout_sec=10):\n",
        "    try:\n",
        "        start = time.perf_counter()\n",
        "        result = subprocess.run(\n",
        "            command,\n",
        "            input=input_text,\n",
        "            text=True,\n",
        "            capture_output=True,\n",
        "            timeout=timeout_sec,\n",
        "            check=False  # ← 例外は出さない\n",
        "        )\n",
        "        end = time.perf_counter()\n",
        "        elapsed = end - start\n",
        "    except subprocess.TimeoutExpired:\n",
        "        print(\"⚠️ タイムアウト発生\")\n",
        "        return None,None\n",
        "    except FileNotFoundError:\n",
        "        print(\"⚠️ コマンドが見つかりません\")\n",
        "        return None,None\n",
        "\n",
        "    # 終了コードで OK/NG 判定\n",
        "    if result.returncode != 0:\n",
        "        print(f\"⚠️ エラー終了 (returncode={result.returncode})\")\n",
        "        print(\"標準エラー:\", result.stderr.strip())\n",
        "\n",
        "    # 標準出力は返す\n",
        "    return result.stdout.strip(),elapsed\n",
        "\n",
        "# --- 使用例 ---\n",
        "# output = run_external_test([\"python3\", \"main.py\"], input_text=\"5 15\\n3 1 4 1 5\\n\")\n",
        "# print(\"出力:\", output)\n"
      ],
      "metadata": {
        "id": "jRPUq1kgn-uw"
      },
      "execution_count": 2,
      "outputs": []
    },
    {
      "cell_type": "code",
      "source": [
        "def run_all():\n",
        "    samples = fetch_test_cases(problem_url)\n",
        "\n",
        "    results = []\n",
        "    times = []\n",
        "\n",
        "    for idx, (inp, out) in enumerate(samples, 1):\n",
        "        print(f\"■ sample{idx}:\")\n",
        "        expected = out.rstrip(\"\\n\")\n",
        "        executed, elapsed = run_external_test([\"python3\", \"main.py\"], input_text=inp)\n",
        "\n",
        "        if executed is None:\n",
        "            result = \"ERROR\"\n",
        "            print(\"<result> 実行失敗\")\n",
        "        elif expected == executed:\n",
        "            result = \"AC\"\n",
        "            print(\"<result> AC!\")\n",
        "        else:\n",
        "            result = \"NG\"\n",
        "            print(\"<result> ng...\\n\")\n",
        "            print(\"input:\")\n",
        "            print(inp)\n",
        "            print(\"output:\")\n",
        "            print(executed)\n",
        "            print(\"expected:\")\n",
        "            print(expected)\n",
        "\n",
        "        if elapsed is not None:\n",
        "            times.append(elapsed)\n",
        "            print(f\"<time> {elapsed:.6f} 秒\")\n",
        "\n",
        "        results.append(result)\n",
        "        print()\n",
        "\n",
        "    # --- まとめ ---\n",
        "    total = len(results)\n",
        "    ac_count = results.count(\"AC\")\n",
        "    ng_count = results.count(\"NG\")\n",
        "    err_count = results.count(\"ERROR\")\n",
        "\n",
        "    print(\"=\" * 20)\n",
        "    print(f\"✅ AC: {ac_count} / {total}\")\n",
        "    print(f\"❌ NG: {ng_count} / {total}\")\n",
        "    if err_count:\n",
        "        print(f\"⚠️ 実行失敗: {err_count}\")\n",
        "\n",
        "    if times:\n",
        "        avg_time = sum(times) / len(times)\n",
        "        max_time = max(times)\n",
        "        print(f\"平均実行時間: {avg_time:.6f} 秒\")\n",
        "        print(f\"最大実行時間: {max_time:.6f} 秒\")\n",
        "    print(\"=\" * 20)\n"
      ],
      "metadata": {
        "id": "3Ikzy_mYmRYo"
      },
      "execution_count": 3,
      "outputs": []
    },
    {
      "cell_type": "markdown",
      "source": [
        "# 1. urlを入力"
      ],
      "metadata": {
        "id": "92h1NWf9C5rN"
      }
    },
    {
      "cell_type": "code",
      "execution_count": 4,
      "metadata": {
        "id": "WlF8xRViCpEv"
      },
      "outputs": [],
      "source": [
        "problem_url = \"https://atcoder.jp/contests/abc424/tasks/abc424_a\""
      ]
    },
    {
      "cell_type": "markdown",
      "source": [
        "# 2. コードを入力 (二行目から書いてね)"
      ],
      "metadata": {
        "id": "t10tO-PyDG6i"
      }
    },
    {
      "cell_type": "code",
      "source": [
        "%%writefile main.py\n",
        "#!/usr/bin/env python3\n",
        "a,b,c = map(int,input().split())\n",
        "print('YNeos'[not(a==b or b==c or c==a)::2])"
      ],
      "metadata": {
        "id": "caRyUZwiDOOT",
        "colab": {
          "base_uri": "https://localhost:8080/"
        },
        "outputId": "601dca11-b692-43ef-a3bb-d565dd30dd93"
      },
      "execution_count": 5,
      "outputs": [
        {
          "output_type": "stream",
          "name": "stdout",
          "text": [
            "Writing main.py\n"
          ]
        }
      ]
    },
    {
      "cell_type": "markdown",
      "source": [
        "\n",
        "\n",
        "# 3. テスト実行"
      ],
      "metadata": {
        "id": "cC5vRVQLEBxD"
      }
    },
    {
      "cell_type": "code",
      "source": [
        "run_all()"
      ],
      "metadata": {
        "colab": {
          "base_uri": "https://localhost:8080/"
        },
        "id": "Phn1kIXZmxB4",
        "outputId": "ce3f79f8-27c8-4078-adae-2bbde56ebe1e"
      },
      "execution_count": 6,
      "outputs": [
        {
          "output_type": "stream",
          "name": "stdout",
          "text": [
            "■ sample1:\n",
            "<result> AC!\n",
            "<time> 0.463263 秒\n",
            "\n",
            "■ sample2:\n",
            "<result> AC!\n",
            "<time> 0.270619 秒\n",
            "\n",
            "■ sample3:\n",
            "<result> AC!\n",
            "<time> 0.424331 秒\n",
            "\n",
            "====================\n",
            "✅ AC: 3 / 3\n",
            "❌ NG: 0 / 3\n",
            "平均実行時間: 0.386071 秒\n",
            "最大実行時間: 0.463263 秒\n",
            "====================\n"
          ]
        }
      ]
    }
  ]
}